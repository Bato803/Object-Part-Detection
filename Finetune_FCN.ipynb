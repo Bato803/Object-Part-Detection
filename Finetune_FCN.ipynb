{
 "cells": [
  {
   "cell_type": "code",
   "execution_count": 1,
   "metadata": {
    "collapsed": true
   },
   "outputs": [],
   "source": [
    "import os\n",
    "import scipy as scp\n",
    "import scipy.misc \n",
    "\n",
    "import matplotlib.pyplot as plt\n",
    "%matplotlib inline\n",
    "import numpy as np\n",
    "import logging\n",
    "import tensorflow as tf\n",
    "import sys\n",
    "\n",
    "import fcn8_vgg\n",
    "import utils\n",
    "from datetime import datetime\n",
    "\n",
    "logging.basicConfig(format='%(asctime)s %(levelname)s %(message)s',\n",
    "                    level=logging.INFO,\n",
    "                    stream=sys.stdout)\n",
    "\n",
    "from tensorflow.python.framework import ops"
   ]
  },
  {
   "cell_type": "markdown",
   "metadata": {},
   "source": [
    "### Set up the path to look for dataset"
   ]
  },
  {
   "cell_type": "code",
   "execution_count": 2,
   "metadata": {
    "collapsed": true
   },
   "outputs": [],
   "source": [
    "image_path = \"/Volumes/JetDrive/dataset/PASCAL2010/train_val/VOC2010\"\n",
    "train_test_path = \"/Volumes/JetDrive/dataset/PASCAL2010/PERSON_PART/pascal_person_part_trainval_list/\""
   ]
  },
  {
   "cell_type": "code",
   "execution_count": 3,
   "metadata": {
    "collapsed": false
   },
   "outputs": [],
   "source": [
    "'''\n",
    "im_list: contains paths to the person images. shape:(1716,)\n",
    "gt_list: contains paths to ground truth images. shape:(1716,)\n",
    "The images order in two lists coresponds to each other. \n",
    "'''\n",
    "\n",
    "im_list = []\n",
    "gt_list = []\n",
    "with open(train_test_path+'train.txt') as f:\n",
    "    for line in f:\n",
    "        im, gt = line.split(\" \")\n",
    "        im_list.append(im)\n",
    "        gt_list.append(gt.strip())"
   ]
  },
  {
   "cell_type": "code",
   "execution_count": 52,
   "metadata": {
    "collapsed": false
   },
   "outputs": [],
   "source": [
    "\"\"\"\n",
    "This part is to calculate the mean RGB values of the \n",
    "pascal person dataset.\n",
    "\n",
    "R_mean: 113.380\n",
    "G_mean: 106.204\n",
    "B_mean: 98.770\n",
    "\"\"\"\n",
    "R,G,B = [],[],[]\n",
    "\n",
    "for i in range(0, 1716):\n",
    "    image = plt.imread(image_path+im_list[i])\n",
    "    R.append(np.mean(image[:,:,0]))\n",
    "    G.append(np.mean(image[:,:,1]))\n",
    "    B.append(np.mean(image[:,:,2]))\n",
    "\n",
    "R_m = np.mean(R)\n",
    "G_m = np.mean(G)\n",
    "B_m = np.mean(B)"
   ]
  },
  {
   "cell_type": "code",
   "execution_count": 25,
   "metadata": {
    "collapsed": false
   },
   "outputs": [],
   "source": [
    "a = tf.read_file(image_path+gt_list[121])\n",
    "annotation_tensor = tf.image.decode_png(a, channels=1)\n",
    "b = tf.read_file(image_path+im_list[121])\n",
    "image_tensor = tf.image.decode_jpeg(b, channels=3)\n",
    "#h_labels_tensor = tf.to_float(tf.equal(annotation_tensor, 38))\n",
    "#t_labels_tensor = tf.to_float(tf.equal(annotation_tensor, 75))\n",
    "#c = tf.concat(axis=2, values=[h_labels_tensor, t_labels_tensor])\n",
    "#f = tf.reshape(tensor=c, shape=(-1,2))\n",
    "uni = tf.unique(tf.reshape(annotation_tensor,[-1]))\n",
    "exp = tf.expand_dims(image_tensor,axis=0)\n",
    "with tf.Session() as ss:\n",
    "    e1 = ss.run(exp)"
   ]
  },
  {
   "cell_type": "code",
   "execution_count": 27,
   "metadata": {
    "collapsed": false
   },
   "outputs": [
    {
     "data": {
      "text/plain": [
       "(1, 263, 400, 3)"
      ]
     },
     "execution_count": 27,
     "metadata": {},
     "output_type": "execute_result"
    }
   ],
   "source": [
    "np.shape(e1)"
   ]
  },
  {
   "cell_type": "code",
   "execution_count": 34,
   "metadata": {
    "collapsed": false
   },
   "outputs": [],
   "source": [
    "c = image_path+im_list[19]\n",
    "d = image_path+gt_list[19]\n",
    "with tf.Session() as ss:\n",
    "    init = tf.global_variables_initializer()\n",
    "    ss.run(init)\n",
    "    # d = ss.run(flat_logits,feed_dict={image_filename_placeholder:c, annotation_filename_placeholder:d})\n",
    "    f = ss.run(flat_labels,feed_dict={image_filename_placeholder:c, annotation_filename_placeholder:d})"
   ]
  },
  {
   "cell_type": "code",
   "execution_count": 31,
   "metadata": {
    "collapsed": false
   },
   "outputs": [
    {
     "data": {
      "text/plain": [
       "(1, 375, 500, 7)"
      ]
     },
     "execution_count": 31,
     "metadata": {},
     "output_type": "execute_result"
    }
   ],
   "source": [
    "np.shape(d)"
   ]
  },
  {
   "cell_type": "code",
   "execution_count": 33,
   "metadata": {
    "collapsed": false
   },
   "outputs": [
    {
     "data": {
      "text/plain": [
       "(187500, 7)"
      ]
     },
     "execution_count": 33,
     "metadata": {},
     "output_type": "execute_result"
    }
   ],
   "source": [
    "np.shape(d)"
   ]
  },
  {
   "cell_type": "code",
   "execution_count": 35,
   "metadata": {
    "collapsed": false
   },
   "outputs": [
    {
     "data": {
      "text/plain": [
       "(187500, 7)"
      ]
     },
     "execution_count": 35,
     "metadata": {},
     "output_type": "execute_result"
    }
   ],
   "source": [
    "np.shape(f)"
   ]
  },
  {
   "cell_type": "markdown",
   "metadata": {},
   "source": [
    "### Build up the FCN model."
   ]
  },
  {
   "cell_type": "code",
   "execution_count": 28,
   "metadata": {
    "collapsed": false
   },
   "outputs": [
    {
     "name": "stdout",
     "output_type": "stream",
     "text": [
      "npy file loaded\n",
      "Layer name: conv1_1\n",
      "Layer shape: (3, 3, 3, 64)\n",
      "Layer name: conv1_2\n",
      "Layer shape: (3, 3, 64, 64)\n",
      "Layer name: conv2_1\n",
      "Layer shape: (3, 3, 64, 128)\n",
      "Layer name: conv2_2\n",
      "Layer shape: (3, 3, 128, 128)\n",
      "Layer name: conv3_1\n",
      "Layer shape: (3, 3, 128, 256)\n",
      "Layer name: conv3_2\n",
      "Layer shape: (3, 3, 256, 256)\n",
      "Layer name: conv3_3\n",
      "Layer shape: (3, 3, 256, 256)\n",
      "Layer name: conv4_1\n",
      "Layer shape: (3, 3, 256, 512)\n",
      "Layer name: conv4_2\n",
      "Layer shape: (3, 3, 512, 512)\n",
      "Layer name: conv4_3\n",
      "Layer shape: (3, 3, 512, 512)\n",
      "Layer name: conv5_1\n",
      "Layer shape: (3, 3, 512, 512)\n",
      "Layer name: conv5_2\n",
      "Layer shape: (3, 3, 512, 512)\n",
      "Layer name: conv5_3\n",
      "Layer shape: (3, 3, 512, 512)\n",
      "Layer name: fc6\n",
      "Layer shape: [7, 7, 512, 4096]\n",
      "Layer name: fc7\n",
      "Layer shape: [1, 1, 4096, 4096]\n"
     ]
    }
   ],
   "source": [
    "with tf.Session() as sess:\n",
    "    \n",
    "    vgg_fcn = fcn8_vgg.FCN8VGG()\n",
    "\n",
    "    image_filename_placeholder = tf.placeholder(tf.string)\n",
    "    annotation_filename_placeholder = tf.placeholder(tf.string)\n",
    "    image_tensor = tf.read_file(image_filename_placeholder)\n",
    "    annotation_tensor = tf.read_file(annotation_filename_placeholder)\n",
    "    img = tf.image.decode_jpeg(image_tensor, channels=3)\n",
    "    gt = tf.image.decode_png(annotation_tensor, channels=1)\n",
    "\n",
    "    bg_label_tensor = tf.to_float(tf.equal(gt, 0, name=\"Background\"))\n",
    "    hd_label_tensor = tf.to_float(tf.equal(gt, 38, name=\"Head\"))\n",
    "    ts_label_tensor = tf.to_float(tf.equal(gt, 75, name=\"Tosor\"))\n",
    "    ua_label_tensor = tf.to_float(tf.equal(gt, 113, name=\"Upper_Arm\"))\n",
    "    la_label_tensor = tf.to_float(tf.equal(gt, 14, name=\"lower_Arm\"))\n",
    "    ul_label_tensor = tf.to_float(tf.equal(gt, 52, name=\"Upper_Leg\"))\n",
    "    ll_label_tensor = tf.to_float(tf.equal(gt, 89, name=\"Lower_Leg\"))\n",
    "    combined_mark = tf.concat(axis=2, values=[bg_label_tensor,hd_label_tensor,\n",
    "                                             ts_label_tensor, ua_label_tensor,\n",
    "                                             la_label_tensor, ul_label_tensor,\n",
    "                                             ll_label_tensor])\n",
    "    flat_labels = tf.reshape(tensor=combined_mark, shape=(-1, 7))\n",
    "\n",
    "    img_float = tf.to_float(img)\n",
    "    img_batch = tf.expand_dims(img_float, axis=0)\n",
    "    vgg_fcn.build(img_batch, train=True, num_classes=7,debug=True,random_init_fc8=True)\n",
    "    biased_vector = np.array((0.1,1,1,1,1,1,1))\n",
    "    predition = tf.multiply(vgg_fcn.upscore32,biased_vector)\n",
    "\n",
    "    flat_logits = tf.reshape(tensor=predition, shape=(-1, 7))\n",
    "    cross_entropies = tf.nn.softmax_cross_entropy_with_logits(logits=flat_logits,\n",
    "                                                              labels=flat_labels)\n",
    "    with tf.name_scope(\"loss\"):\n",
    "        loss_sum = tf.reduce_sum(cross_entropies)\n",
    "        tf.summary.scalar('loss', loss_sum)\n",
    "\n",
    "    with tf.variable_scope(\"adam_vars\"):\n",
    "        optimizer = tf.train.AdamOptimizer(learning_rate=0.0001)\n",
    "        train_step = optimizer.minimize(loss_sum)\n",
    "\n",
    "#     init = tf.global_variables_initializer()\n",
    "#     merged = tf.summary.merge_all()\n",
    "#     write = tf.summary.FileWriter(\"log/\", sess.graph)\n",
    "#     sess.run(init)\n",
    "\n",
    "#     for epoch in range(1):\n",
    "#         for i in range(0,2):\n",
    "#             img_filename = image_path+im_list[i]\n",
    "#             gt_filename = image_path+gt_list[i]\n",
    "#             feed_dictionary = {image_filename_placeholder:img_filename,\n",
    "#                                annotation_filename_placeholder:gt_filename}\n",
    "#             sess.run(train_step, feed_dict=feed_dictionary)\n",
    "#             if i%2 == 0:\n",
    "#                 temp_loss = sess.run(loss_sum, feed_dict=feed_dictionary)\n",
    "#                 print(\"Temporay loss: %f\" % temp_loss)\n",
    "#                 print(\"The time is %s\" % str(datetime.now().strftime(\"%Y-%m-%d %H:%M:%S\")))\n",
    "                \n",
    "#     filters = ['conv1_1/filter:0','conv1_1/biases:0',\"conv1_2/filter:0\",\"conv1_2/biases:0\",\n",
    "#                \"conv2_1/filter:0\",\"conv2_1/biases:0\",\"conv2_2/filter:0\",\"conv2_2/biases:0\",\n",
    "#                \"conv3_1/filter:0\",\"conv3_1/biases:0\",\"conv3_2/filter:0\",\"conv3_2/biases:0\",\n",
    "#                \"conv4_1/filter:0\",\"conv4_1/biases:0\",\"conv4_2/filter:0\",\"conv4_2/biases:0\",\n",
    "#                \"conv4_3/filter:0\",\"conv4_3/biases:0\",\"conv5_1/filter:0\",\"conv5_1/biases:0\",\n",
    "#                \"conv5_2/filter:0\",\"conv5_2/biases:0\",\"conv5_3/filter:0\",\"conv5_3/biases:0\",\n",
    "#                \"fc6/weights:0\",\"fc6/biases:0\",\"fc7/weights:0\",\"fc7/biases:0\",\n",
    "#                \"score_fr/weights:0\", \"score_fr/biases:0\", \"upscore2/up_filter:0\",\n",
    "#                \"score_pool4/weights:0\",\"score_pool4/biases:0\",\"upscore4/up_filter:0\",\n",
    "#                \"score_pool3/weights:0\",\"score_pool3/biases:0\",\"upscore32/up_filter:0\"]\n",
    "    \n",
    "#     c11w,c11b,c12w,c12b,c21w,c21b,c22w,c22b,c31w,c31b,c32w,c32b,c41w,c41b,c42w,c42b,c43w,c43b,c51w,c51b,c52w,c52b,c53w,c53b,fc6w,fc6b,fc7w,fc7b,sw,sb,up2w,s4w,s4b,up4w,s3w,s3b,up32 = sess.run(filters)\n",
    "    \n",
    "#     save_dict={}\n",
    "#     save_dict={\"conv1_1\":[c11w,c11b], \"conv1_2\":[c12w,c12b],\"conv2_1\":[c21w,c21b],\"conv2_2\":[c22w,c22b],\n",
    "#               \"conv3_1\":[c31w,c31b],\"conv3_2\":[c32w,c32b],\"conv4_1\":[c41w,c41b],\"conv4_2\":[c42w,c42b],\n",
    "#               \"conv4_3\":[c43w,c43b],\"conv5_1\":[c51w,c51b],\"conv5_2\":[c52w,c52b],\"conv5_3\":[c53w,c53b],\n",
    "#               \"fc6\":[fc6w,fc6b],\"fc7\":[fc7w,fc7b],\"score_fr\":[sw,sb], \"upscore2\":[up2w],\n",
    "#               \"score_pool4\":[s4w,s4b],\"upscore4\":[up4w],\"score_pool3\":[s3w,s3b],\"upscore32\":[up32]}\n",
    "    \n",
    "#     np.save(\"test.npy\", save_dict)\n",
    "    "
   ]
  },
  {
   "cell_type": "code",
   "execution_count": 28,
   "metadata": {
    "collapsed": true
   },
   "outputs": [
    {
     "data": {
      "text/plain": [
       "[u'conv1_1/filter:0',\n",
       " u'conv1_1/biases:0',\n",
       " u'conv1_2/filter:0',\n",
       " u'conv1_2/biases:0',\n",
       " u'conv2_1/filter:0',\n",
       " u'conv2_1/biases:0',\n",
       " u'conv2_2/filter:0',\n",
       " u'conv2_2/biases:0',\n",
       " u'conv3_1/filter:0',\n",
       " u'conv3_1/biases:0',\n",
       " u'conv3_2/filter:0',\n",
       " u'conv3_2/biases:0',\n",
       " u'conv3_3/filter:0',\n",
       " u'conv3_3/biases:0',\n",
       " u'conv4_1/filter:0',\n",
       " u'conv4_1/biases:0',\n",
       " u'conv4_2/filter:0',\n",
       " u'conv4_2/biases:0',\n",
       " u'conv4_3/filter:0',\n",
       " u'conv4_3/biases:0',\n",
       " u'conv5_1/filter:0',\n",
       " u'conv5_1/biases:0',\n",
       " u'conv5_2/filter:0',\n",
       " u'conv5_2/biases:0',\n",
       " u'conv5_3/filter:0',\n",
       " u'conv5_3/biases:0',\n",
       " u'fc6/weights:0',\n",
       " u'fc6/biases:0',\n",
       " u'fc7/weights:0',\n",
       " u'fc7/biases:0',\n",
       " u'score_fr/weights:0',\n",
       " u'score_fr/biases:0',\n",
       " u'upscore2/up_filter:0',\n",
       " u'score_pool4/weights:0',\n",
       " u'score_pool4/biases:0',\n",
       " u'upscore4/up_filter:0',\n",
       " u'score_pool3/weights:0',\n",
       " u'score_pool3/biases:0',\n",
       " u'upscore32/up_filter:0']"
      ]
     },
     "execution_count": 28,
     "metadata": {},
     "output_type": "execute_result"
    }
   ],
   "source": [
    "var"
   ]
  },
  {
   "cell_type": "code",
   "execution_count": 19,
   "metadata": {
    "collapsed": false
   },
   "outputs": [],
   "source": [
    "var = [v.name for v in tf.trainable_variables()]"
   ]
  },
  {
   "cell_type": "code",
   "execution_count": 27,
   "metadata": {
    "collapsed": true
   },
   "outputs": [
    {
     "ename": "FailedPreconditionError",
     "evalue": "Attempting to use uninitialized value conv1_1/filter\n\t [[Node: _send_conv1_1/filter_0 = _Send[T=DT_FLOAT, client_terminated=true, recv_device=\"/job:localhost/replica:0/task:0/cpu:0\", send_device=\"/job:localhost/replica:0/task:0/cpu:0\", send_device_incarnation=9089117610572213901, tensor_name=\"conv1_1/filter:0\", _device=\"/job:localhost/replica:0/task:0/cpu:0\"](conv1_1/filter)]]",
     "output_type": "error",
     "traceback": [
      "\u001b[0;31m---------------------------------------------------------------------------\u001b[0m",
      "\u001b[0;31mFailedPreconditionError\u001b[0m                   Traceback (most recent call last)",
      "\u001b[0;32m<ipython-input-27-6f6f4cb739a4>\u001b[0m in \u001b[0;36m<module>\u001b[0;34m()\u001b[0m\n\u001b[1;32m      1\u001b[0m \u001b[0;32mwith\u001b[0m \u001b[0mtf\u001b[0m\u001b[0;34m.\u001b[0m\u001b[0mSession\u001b[0m\u001b[0;34m(\u001b[0m\u001b[0;34m)\u001b[0m \u001b[0;32mas\u001b[0m \u001b[0ms\u001b[0m\u001b[0;34m:\u001b[0m\u001b[0;34m\u001b[0m\u001b[0m\n\u001b[0;32m----> 2\u001b[0;31m     \u001b[0me\u001b[0m \u001b[0;34m=\u001b[0m \u001b[0ms\u001b[0m\u001b[0;34m.\u001b[0m\u001b[0mrun\u001b[0m\u001b[0;34m(\u001b[0m\u001b[0;34m\"conv1_1/filter:0\"\u001b[0m\u001b[0;34m)\u001b[0m\u001b[0;34m\u001b[0m\u001b[0m\n\u001b[0m",
      "\u001b[0;32m/Users/Bato/anaconda/lib/python2.7/site-packages/tensorflow/python/client/session.pyc\u001b[0m in \u001b[0;36mrun\u001b[0;34m(self, fetches, feed_dict, options, run_metadata)\u001b[0m\n\u001b[1;32m    765\u001b[0m     \u001b[0;32mtry\u001b[0m\u001b[0;34m:\u001b[0m\u001b[0;34m\u001b[0m\u001b[0m\n\u001b[1;32m    766\u001b[0m       result = self._run(None, fetches, feed_dict, options_ptr,\n\u001b[0;32m--> 767\u001b[0;31m                          run_metadata_ptr)\n\u001b[0m\u001b[1;32m    768\u001b[0m       \u001b[0;32mif\u001b[0m \u001b[0mrun_metadata\u001b[0m\u001b[0;34m:\u001b[0m\u001b[0;34m\u001b[0m\u001b[0m\n\u001b[1;32m    769\u001b[0m         \u001b[0mproto_data\u001b[0m \u001b[0;34m=\u001b[0m \u001b[0mtf_session\u001b[0m\u001b[0;34m.\u001b[0m\u001b[0mTF_GetBuffer\u001b[0m\u001b[0;34m(\u001b[0m\u001b[0mrun_metadata_ptr\u001b[0m\u001b[0;34m)\u001b[0m\u001b[0;34m\u001b[0m\u001b[0m\n",
      "\u001b[0;32m/Users/Bato/anaconda/lib/python2.7/site-packages/tensorflow/python/client/session.pyc\u001b[0m in \u001b[0;36m_run\u001b[0;34m(self, handle, fetches, feed_dict, options, run_metadata)\u001b[0m\n\u001b[1;32m    963\u001b[0m     \u001b[0;32mif\u001b[0m \u001b[0mfinal_fetches\u001b[0m \u001b[0;32mor\u001b[0m \u001b[0mfinal_targets\u001b[0m\u001b[0;34m:\u001b[0m\u001b[0;34m\u001b[0m\u001b[0m\n\u001b[1;32m    964\u001b[0m       results = self._do_run(handle, final_targets, final_fetches,\n\u001b[0;32m--> 965\u001b[0;31m                              feed_dict_string, options, run_metadata)\n\u001b[0m\u001b[1;32m    966\u001b[0m     \u001b[0;32melse\u001b[0m\u001b[0;34m:\u001b[0m\u001b[0;34m\u001b[0m\u001b[0m\n\u001b[1;32m    967\u001b[0m       \u001b[0mresults\u001b[0m \u001b[0;34m=\u001b[0m \u001b[0;34m[\u001b[0m\u001b[0;34m]\u001b[0m\u001b[0;34m\u001b[0m\u001b[0m\n",
      "\u001b[0;32m/Users/Bato/anaconda/lib/python2.7/site-packages/tensorflow/python/client/session.pyc\u001b[0m in \u001b[0;36m_do_run\u001b[0;34m(self, handle, target_list, fetch_list, feed_dict, options, run_metadata)\u001b[0m\n\u001b[1;32m   1013\u001b[0m     \u001b[0;32mif\u001b[0m \u001b[0mhandle\u001b[0m \u001b[0;32mis\u001b[0m \u001b[0mNone\u001b[0m\u001b[0;34m:\u001b[0m\u001b[0;34m\u001b[0m\u001b[0m\n\u001b[1;32m   1014\u001b[0m       return self._do_call(_run_fn, self._session, feed_dict, fetch_list,\n\u001b[0;32m-> 1015\u001b[0;31m                            target_list, options, run_metadata)\n\u001b[0m\u001b[1;32m   1016\u001b[0m     \u001b[0;32melse\u001b[0m\u001b[0;34m:\u001b[0m\u001b[0;34m\u001b[0m\u001b[0m\n\u001b[1;32m   1017\u001b[0m       return self._do_call(_prun_fn, self._session, handle, feed_dict,\n",
      "\u001b[0;32m/Users/Bato/anaconda/lib/python2.7/site-packages/tensorflow/python/client/session.pyc\u001b[0m in \u001b[0;36m_do_call\u001b[0;34m(self, fn, *args)\u001b[0m\n\u001b[1;32m   1033\u001b[0m         \u001b[0;32mexcept\u001b[0m \u001b[0mKeyError\u001b[0m\u001b[0;34m:\u001b[0m\u001b[0;34m\u001b[0m\u001b[0m\n\u001b[1;32m   1034\u001b[0m           \u001b[0;32mpass\u001b[0m\u001b[0;34m\u001b[0m\u001b[0m\n\u001b[0;32m-> 1035\u001b[0;31m       \u001b[0;32mraise\u001b[0m \u001b[0mtype\u001b[0m\u001b[0;34m(\u001b[0m\u001b[0me\u001b[0m\u001b[0;34m)\u001b[0m\u001b[0;34m(\u001b[0m\u001b[0mnode_def\u001b[0m\u001b[0;34m,\u001b[0m \u001b[0mop\u001b[0m\u001b[0;34m,\u001b[0m \u001b[0mmessage\u001b[0m\u001b[0;34m)\u001b[0m\u001b[0;34m\u001b[0m\u001b[0m\n\u001b[0m\u001b[1;32m   1036\u001b[0m \u001b[0;34m\u001b[0m\u001b[0m\n\u001b[1;32m   1037\u001b[0m   \u001b[0;32mdef\u001b[0m \u001b[0m_extend_graph\u001b[0m\u001b[0;34m(\u001b[0m\u001b[0mself\u001b[0m\u001b[0;34m)\u001b[0m\u001b[0;34m:\u001b[0m\u001b[0;34m\u001b[0m\u001b[0m\n",
      "\u001b[0;31mFailedPreconditionError\u001b[0m: Attempting to use uninitialized value conv1_1/filter\n\t [[Node: _send_conv1_1/filter_0 = _Send[T=DT_FLOAT, client_terminated=true, recv_device=\"/job:localhost/replica:0/task:0/cpu:0\", send_device=\"/job:localhost/replica:0/task:0/cpu:0\", send_device_incarnation=9089117610572213901, tensor_name=\"conv1_1/filter:0\", _device=\"/job:localhost/replica:0/task:0/cpu:0\"](conv1_1/filter)]]"
     ]
    }
   ],
   "source": [
    "with tf.Session() as s:\n",
    "    e = s.run(\"conv1_1/filter:0\")"
   ]
  },
  {
   "cell_type": "code",
   "execution_count": null,
   "metadata": {
    "collapsed": true
   },
   "outputs": [],
   "source": [
    "np.shape(e)"
   ]
  },
  {
   "cell_type": "code",
   "execution_count": 21,
   "metadata": {
    "collapsed": false
   },
   "outputs": [
    {
     "data": {
      "text/plain": [
       "<tf.Operation 'conv5_3/Relu' type=Relu>"
      ]
     },
     "execution_count": 21,
     "metadata": {},
     "output_type": "execute_result"
    }
   ],
   "source": [
    "e"
   ]
  },
  {
   "cell_type": "markdown",
   "metadata": {},
   "source": [
    "### To restore the network."
   ]
  },
  {
   "cell_type": "code",
   "execution_count": 2,
   "metadata": {
    "collapsed": false
   },
   "outputs": [
    {
     "data": {
      "text/plain": [
       "'/Users/Bato/Study/COMPUTER_VISION/ICCV2017_second_idea/LSTM/tensor_lstm/model/test-model'"
      ]
     },
     "execution_count": 2,
     "metadata": {},
     "output_type": "execute_result"
    }
   ],
   "source": [
    "w1 = tf.Variable(tf.truncated_normal(shape=[10]), name='w1')\n",
    "w2 = tf.Variable(tf.truncated_normal(shape=[20]), name='w2')\n",
    "tf.add_to_collection('vars', w1)\n",
    "tf.add_to_collection('vars', w2)\n",
    "saver = tf.train.Saver()\n",
    "sess = tf.Session()\n",
    "sess.run(tf.global_variables_initializer())\n",
    "saver.save(sess, '/Users/Bato/Study/COMPUTER_VISION/ICCV2017_second_idea/LSTM/tensor_lstm/model/test-model')"
   ]
  },
  {
   "cell_type": "code",
   "execution_count": 2,
   "metadata": {
    "collapsed": false
   },
   "outputs": [
    {
     "name": "stdout",
     "output_type": "stream",
     "text": [
      "[-1.58127618 -0.27413431  0.48931956 -0.96271074  0.3837184  -0.97886246\n",
      " -1.16651976  0.81927347  1.71385121  0.17344235]\n",
      "[ 0.78186834  0.12208813 -0.58766991  0.75227284 -0.24616119 -0.75523335\n",
      " -0.2062182   0.48446772  0.84245372 -1.58937085  0.59701455  0.52455449\n",
      " -0.08243828  0.6777364  -0.1226028  -0.21110013 -0.29992312  0.82548738\n",
      " -1.94615781 -0.88360888]\n"
     ]
    }
   ],
   "source": [
    "sess = tf.Session()\n",
    "new_saver = tf.train.import_meta_graph('model/test-model.meta')\n",
    "new_saver.restore(sess, tf.train.latest_checkpoint('./model/'))\n",
    "all_vars = tf.get_collection('vars')\n",
    "for v in all_vars:\n",
    "    v_ = sess.run(v)\n",
    "    print(v_)"
   ]
  },
  {
   "cell_type": "code",
   "execution_count": 5,
   "metadata": {
    "collapsed": false
   },
   "outputs": [],
   "source": [
    "a = tf.get_collection('vars')"
   ]
  },
  {
   "cell_type": "code",
   "execution_count": 8,
   "metadata": {
    "collapsed": false
   },
   "outputs": [
    {
     "name": "stdout",
     "output_type": "stream",
     "text": [
      "[-1.58127618 -0.27413431  0.48931956 -0.96271074  0.3837184  -0.97886246\n",
      " -1.16651976  0.81927347  1.71385121  0.17344235]\n",
      "[ 0.78186834  0.12208813 -0.58766991  0.75227284 -0.24616119 -0.75523335\n",
      " -0.2062182   0.48446772  0.84245372 -1.58937085  0.59701455  0.52455449\n",
      " -0.08243828  0.6777364  -0.1226028  -0.21110013 -0.29992312  0.82548738\n",
      " -1.94615781 -0.88360888]\n"
     ]
    }
   ],
   "source": [
    "for i in a:\n",
    "    t = sess.run(i)\n",
    "    print(t)"
   ]
  },
  {
   "cell_type": "code",
   "execution_count": 40,
   "metadata": {
    "collapsed": false
   },
   "outputs": [],
   "source": [
    "import numpy as np\n",
    "a = np.load(\"confidence_map/2008_000041.npy\")\n",
    "a_gt = plt.imread(\"/Volumes/JetDrive/dataset/PASCAL2010/PERSON_PART/pascal_person_part_gt/2008_000041.png\")"
   ]
  },
  {
   "cell_type": "code",
   "execution_count": 66,
   "metadata": {
    "collapsed": false
   },
   "outputs": [
    {
     "data": {
      "text/plain": [
       "(1, 375, 500, 7)"
      ]
     },
     "execution_count": 66,
     "metadata": {},
     "output_type": "execute_result"
    }
   ],
   "source": [
    "np.shape(a)"
   ]
  },
  {
   "cell_type": "code",
   "execution_count": 71,
   "metadata": {
    "collapsed": false
   },
   "outputs": [],
   "source": [
    "from skimage.transform import resize,rescale"
   ]
  },
  {
   "cell_type": "code",
   "execution_count": 75,
   "metadata": {
    "collapsed": false
   },
   "outputs": [
    {
     "data": {
      "text/plain": [
       "array([[[  2.95257521e+00,  -1.01677036e+00,  -9.43138599e-01, ...,\n",
       "          -1.92767179e+00,  -1.07486379e+00,  -1.11536980e+00],\n",
       "        [  3.38953042e+00,  -1.15910411e+00,  -1.08364034e+00, ...,\n",
       "          -2.22002435e+00,  -1.23903334e+00,  -1.28593516e+00],\n",
       "        [  3.70374846e+00,  -1.23785651e+00,  -1.15866458e+00, ...,\n",
       "          -2.36865520e+00,  -1.30980992e+00,  -1.35281181e+00],\n",
       "        ..., \n",
       "        [  4.44513607e+00,  -1.53397822e+00,  -1.19428444e+00, ...,\n",
       "          -1.45108497e+00,  -1.02473283e+00,  -1.29490912e+00],\n",
       "        [  4.11794662e+00,  -1.39619744e+00,  -1.10959852e+00, ...,\n",
       "          -1.34094620e+00,  -9.41393673e-01,  -1.19909692e+00],\n",
       "        [  3.59963870e+00,  -1.23255849e+00,  -9.78140354e-01, ...,\n",
       "          -1.17001128e+00,  -8.26134264e-01,  -1.04186654e+00]],\n",
       "\n",
       "       [[  3.58206344e+00,  -1.21878004e+00,  -1.14556623e+00, ...,\n",
       "          -2.34990454e+00,  -1.30946004e+00,  -1.36491323e+00],\n",
       "        [  4.11839533e+00,  -1.39374745e+00,  -1.31780469e+00, ...,\n",
       "          -2.71026373e+00,  -1.50836909e+00,  -1.57470131e+00],\n",
       "        [  4.47716904e+00,  -1.47118413e+00,  -1.39966762e+00, ...,\n",
       "          -2.88297105e+00,  -1.58836758e+00,  -1.65959013e+00],\n",
       "        ..., \n",
       "        [  5.38600206e+00,  -1.83214390e+00,  -1.44307172e+00, ...,\n",
       "          -1.76790452e+00,  -1.24092770e+00,  -1.58960438e+00],\n",
       "        [  5.01343584e+00,  -1.68976319e+00,  -1.34825718e+00, ...,\n",
       "          -1.63646460e+00,  -1.14347267e+00,  -1.46991384e+00],\n",
       "        [  4.37288761e+00,  -1.48426521e+00,  -1.18407333e+00, ...,\n",
       "          -1.42614043e+00,  -1.00029278e+00,  -1.27578175e+00]],\n",
       "\n",
       "       [[  4.22126913e+00,  -1.42828012e+00,  -1.35205197e+00, ...,\n",
       "          -2.77670288e+00,  -1.54463172e+00,  -1.61695504e+00],\n",
       "        [  4.85841513e+00,  -1.64010489e+00,  -1.55644107e+00, ...,\n",
       "          -3.20020556e+00,  -1.78090203e+00,  -1.86372828e+00],\n",
       "        [  5.27404547e+00,  -1.71824646e+00,  -1.65221238e+00, ...,\n",
       "          -3.40274811e+00,  -1.87669420e+00,  -1.97115421e+00],\n",
       "        ..., \n",
       "        [  6.34973717e+00,  -2.14858174e+00,  -1.70380712e+00, ...,\n",
       "          -2.08637190e+00,  -1.46523583e+00,  -1.88662601e+00],\n",
       "        [  5.91832924e+00,  -1.98919892e+00,  -1.59260356e+00, ...,\n",
       "          -1.93318796e+00,  -1.34999907e+00,  -1.74193263e+00],\n",
       "        [  5.15549564e+00,  -1.74508023e+00,  -1.39395809e+00, ...,\n",
       "          -1.68433511e+00,  -1.17742610e+00,  -1.51116407e+00]],\n",
       "\n",
       "       ..., \n",
       "       [[  5.00201178e+00,  -5.41763401e+00,  -2.74283123e+00, ...,\n",
       "          -5.13873434e+00,  -2.47900534e+00,  -1.13311720e+00],\n",
       "        [  5.75145197e+00,  -6.24186230e+00,  -3.15564823e+00, ...,\n",
       "          -5.92509460e+00,  -2.86127663e+00,  -1.30109811e+00],\n",
       "        [  6.32458305e+00,  -6.64791489e+00,  -3.39494276e+00, ...,\n",
       "          -6.29824972e+00,  -3.06741500e+00,  -1.30903888e+00],\n",
       "        ..., \n",
       "        [  4.99383640e+00,  -5.08753300e+00,  -1.46497047e+00, ...,\n",
       "          -3.14145422e+00,  -6.03573024e-03,  -2.67558724e-01],\n",
       "        [  4.69994068e+00,  -4.77915764e+00,  -1.32591116e+00, ...,\n",
       "          -2.90751243e+00,   6.80309236e-02,  -2.35762075e-01],\n",
       "        [  4.09241152e+00,  -4.15347624e+00,  -1.16126931e+00, ...,\n",
       "          -2.52727890e+00,   5.10104373e-02,  -2.07344711e-01]],\n",
       "\n",
       "       [[  4.43118954e+00,  -4.70490599e+00,  -2.42693329e+00, ...,\n",
       "          -4.47380781e+00,  -2.19081903e+00,  -1.02097321e+00],\n",
       "        [  5.07890987e+00,  -5.41885662e+00,  -2.78661299e+00, ...,\n",
       "          -5.15230656e+00,  -2.52008986e+00,  -1.16530859e+00],\n",
       "        [  5.66242313e+00,  -5.76948977e+00,  -3.04295659e+00, ...,\n",
       "          -5.50187588e+00,  -2.73782873e+00,  -1.21264553e+00],\n",
       "        ..., \n",
       "        [  4.45824718e+00,  -4.41370249e+00,  -1.34357834e+00, ...,\n",
       "          -2.74869299e+00,  -6.68112263e-02,  -2.83248901e-01],\n",
       "        [  4.13416386e+00,  -4.14411640e+00,  -1.18098342e+00, ...,\n",
       "          -2.53608727e+00,   3.03169861e-02,  -2.29461834e-01],\n",
       "        [  3.60944772e+00,  -3.60260749e+00,  -1.03942525e+00, ...,\n",
       "          -2.20797372e+00,   1.49040073e-02,  -2.06360415e-01]],\n",
       "\n",
       "       [[  3.79238915e+00,  -3.97748303e+00,  -2.07762766e+00, ...,\n",
       "          -3.80460143e+00,  -1.86250424e+00,  -8.80705357e-01],\n",
       "        [  4.33712959e+00,  -4.58262587e+00,  -2.38037515e+00, ...,\n",
       "          -4.37562037e+00,  -2.14140105e+00,  -1.00253975e+00],\n",
       "        [  4.87064791e+00,  -4.87998199e+00,  -2.61904383e+00, ...,\n",
       "          -4.69049358e+00,  -2.33451033e+00,  -1.05446017e+00],\n",
       "        ..., \n",
       "        [  3.82314539e+00,  -3.73108125e+00,  -1.16510475e+00, ...,\n",
       "          -2.35052395e+00,  -6.84818178e-02,  -2.58967876e-01],\n",
       "        [  3.52206874e+00,  -3.50616813e+00,  -1.01271820e+00, ...,\n",
       "          -2.15637302e+00,   2.00920962e-02,  -2.01377973e-01],\n",
       "        [  3.07875490e+00,  -3.04780579e+00,  -8.93577933e-01, ...,\n",
       "          -1.87978780e+00,   6.08841702e-03,  -1.82887748e-01]]], dtype=float32)"
      ]
     },
     "execution_count": 75,
     "metadata": {},
     "output_type": "execute_result"
    }
   ],
   "source": [
    "a[0]"
   ]
  },
  {
   "cell_type": "code",
   "execution_count": 42,
   "metadata": {
    "collapsed": false
   },
   "outputs": [
    {
     "data": {
      "text/plain": [
       "<matplotlib.image.AxesImage at 0x112b09210>"
      ]
     },
     "execution_count": 42,
     "metadata": {},
     "output_type": "execute_result"
    },
    {
     "data": {
      "image/png": "[encoded data removed]",
      "text/plain": [
       "<matplotlib.figure.Figure at 0x11226e990>"
      ]
     },
     "metadata": {},
     "output_type": "display_data"
    }
   ],
   "source": [
    "plt.figure(figsize=(15,10))\n",
    "plt.subplot(121)\n",
    "plt.imshow(np.argmax(a[0,:,:,:], axis=2))\n",
    "plt.subplot(122)\n",
    "plt.imshow(a_gt)"
   ]
  },
  {
   "cell_type": "code",
   "execution_count": 2,
   "metadata": {
    "collapsed": false
   },
   "outputs": [],
   "source": [
    "b = np.load(\"confidence_map/2008_000008.npy\")\n",
    "b_gt = plt.imread(\"/Volumes/JetDrive/dataset/PASCAL2010/PERSON_PART/pascal_person_part_gt/2008_000008.png\")"
   ]
  },
  {
   "cell_type": "code",
   "execution_count": 7,
   "metadata": {
    "collapsed": false
   },
   "outputs": [
    {
     "data": {
      "text/plain": [
       "<matplotlib.image.AxesImage at 0x119669110>"
      ]
     },
     "execution_count": 7,
     "metadata": {},
     "output_type": "execute_result"
    },
    {
     "data": {
      "image/png": "[encoded data removed]",
      "text/plain": [
       "<matplotlib.figure.Figure at 0x1193676d0>"
      ]
     },
     "metadata": {},
     "output_type": "display_data"
    }
   ],
   "source": [
    "plt.figure(figsize=(15,10))\n",
    "plt.subplot(121)\n",
    "plt.imshow(scipy.misc.imresize(np.argmax(b[0,:,:,:], axis=2), [321,321]))\n",
    "plt.subplot(122)\n",
    "plt.imshow(scipy.misc.imresize(b_gt, [321,321]))"
   ]
  },
  {
   "cell_type": "code",
   "execution_count": 46,
   "metadata": {
    "collapsed": true
   },
   "outputs": [],
   "source": [
    "c = np.load(\"confidence_map/2008_000036.npy\")\n",
    "c_gt = plt.imread(\"/Volumes/JetDrive/dataset/PASCAL2010/PERSON_PART/pascal_person_part_gt/2008_000036.png\")"
   ]
  },
  {
   "cell_type": "code",
   "execution_count": 47,
   "metadata": {
    "collapsed": false
   },
   "outputs": [
    {
     "data": {
      "text/plain": [
       "<matplotlib.image.AxesImage at 0x1111bb690>"
      ]
     },
     "execution_count": 47,
     "metadata": {},
     "output_type": "execute_result"
    },
    {
     "data": {
      "image/png": "[encoded data removed]",
      "text/plain": [
       "<matplotlib.figure.Figure at 0x1129e8d50>"
      ]
     },
     "metadata": {},
     "output_type": "display_data"
    }
   ],
   "source": [
    "plt.figure(figsize=(15,10))\n",
    "plt.subplot(121)\n",
    "plt.imshow(np.argmax(c[0,:,:,:], axis=2))\n",
    "plt.subplot(122)\n",
    "plt.imshow(c_gt)"
   ]
  },
  {
   "cell_type": "code",
   "execution_count": 56,
   "metadata": {
    "collapsed": false
   },
   "outputs": [],
   "source": [
    "d = b[0,:,:,:]\n",
    "s = d[:,:,1].shape"
   ]
  },
  {
   "cell_type": "code",
   "execution_count": null,
   "metadata": {
    "collapsed": true
   },
   "outputs": [],
   "source": []
  }
 ],
 "metadata": {
  "kernelspec": {
   "display_name": "Python 2",
   "language": "python",
   "name": "python2"
  },
  "language_info": {
   "codemirror_mode": {
    "name": "ipython",
    "version": 2
   },
   "file_extension": ".py",
   "mimetype": "text/x-python",
   "name": "python",
   "nbconvert_exporter": "python",
   "pygments_lexer": "ipython2",
   "version": "2.7.13"
  }
 },
 "nbformat": 4,
 "nbformat_minor": 0
}
